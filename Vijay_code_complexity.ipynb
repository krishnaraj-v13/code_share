{
 "cells": [
  {
   "cell_type": "code",
   "execution_count": 32,
   "metadata": {},
   "outputs": [],
   "source": [
    "a = 'active'\n",
    "b = 'inactive'\n",
    "c = 'abcd'\n",
    "\n",
    "create_path  = \"/key_path/to/create/\"\n",
    "update_path  = \"/key_path/to/update/\"\n",
    "delete_path  = \"/key_path/to/delete/\""
   ]
  },
  {
   "cell_type": "code",
   "execution_count": 40,
   "metadata": {},
   "outputs": [],
   "source": [
    "value_dict = {\n",
    "    a : { \"POST\" : create_path + 'create_a.json' ,  \"PUT\" : update_path + 'update_a.json'},\n",
    "    b : { \"POST\" : create_path + 'create_b.json' ,  \"PUT\" :update_path + 'update_b.json'}\n",
    "}"
   ]
  },
  {
   "cell_type": "code",
   "execution_count": 41,
   "metadata": {},
   "outputs": [
    {
     "data": {
      "text/plain": [
       "{'active': {'POST': '/key_path/to/create/create_a.json',\n",
       "  'PUT': '/key_path/to/update/update_a.json'},\n",
       " 'inactive': {'POST': '/key_path/to/create/create_b.json',\n",
       "  'PUT': '/key_path/to/update/update_b.json'}}"
      ]
     },
     "execution_count": 41,
     "metadata": {},
     "output_type": "execute_result"
    }
   ],
   "source": [
    "value_dict"
   ]
  },
  {
   "cell_type": "code",
   "execution_count": 42,
   "metadata": {},
   "outputs": [
    {
     "data": {
      "text/plain": [
       "'/key_path/to/create/create_a.json'"
      ]
     },
     "execution_count": 42,
     "metadata": {},
     "output_type": "execute_result"
    }
   ],
   "source": [
    "str(value_dict['active']['POST'])"
   ]
  },
  {
   "cell_type": "code",
   "execution_count": 43,
   "metadata": {},
   "outputs": [
    {
     "data": {
      "text/plain": [
       "['POST', 'PUT']"
      ]
     },
     "execution_count": 43,
     "metadata": {},
     "output_type": "execute_result"
    }
   ],
   "source": [
    "list(value_dict['active'].keys())"
   ]
  },
  {
   "cell_type": "code",
   "execution_count": 44,
   "metadata": {},
   "outputs": [],
   "source": [
    "def crud_operation(value, token, actions):\n",
    "    print(\"Value:\", value)\n",
    "    print(\"Token:\", token)\n",
    "    print(\"actions:\", actions)\n",
    "    for action in actions:\n",
    "        print(\"POST: kep_path=\",value_dict[value][action],\" value:\",value, \"action=\",action)"
   ]
  },
  {
   "cell_type": "code",
   "execution_count": 45,
   "metadata": {},
   "outputs": [
    {
     "name": "stdout",
     "output_type": "stream",
     "text": [
      "Value: active\n",
      "Token: xyz\n",
      "actions: ['POST', 'PUT']\n",
      "POST: kep_path= /key_path/to/create/create_a.json  value: active action= POST\n",
      "POST: kep_path= /key_path/to/update/update_a.json  value: active action= PUT\n"
     ]
    }
   ],
   "source": [
    "crud_operation(value=a, token='xyz', actions=list(value_dict[a].keys()))"
   ]
  },
  {
   "cell_type": "code",
   "execution_count": 46,
   "metadata": {},
   "outputs": [
    {
     "name": "stdout",
     "output_type": "stream",
     "text": [
      "Value: active\n",
      "Token: xyz\n",
      "actions: ['POST', 'PUT']\n",
      "POST: kep_path= /key_path/to/create/create_a.json  value: active action= POST\n",
      "POST: kep_path= /key_path/to/update/update_a.json  value: active action= PUT\n",
      "Value: inactive\n",
      "Token: xyz\n",
      "actions: ['POST', 'PUT']\n",
      "POST: kep_path= /key_path/to/create/create_b.json  value: inactive action= POST\n",
      "POST: kep_path= /key_path/to/update/update_b.json  value: inactive action= PUT\n"
     ]
    }
   ],
   "source": [
    "for i in list(value_dict.keys()):\n",
    "    crud_operation(value=i, token='xyz', actions=list(value_dict[a].keys()))"
   ]
  },
  {
   "cell_type": "code",
   "execution_count": null,
   "metadata": {},
   "outputs": [],
   "source": []
  }
 ],
 "metadata": {
  "kernelspec": {
   "display_name": "Python 3",
   "language": "python",
   "name": "python3"
  },
  "language_info": {
   "codemirror_mode": {
    "name": "ipython",
    "version": 3
   },
   "file_extension": ".py",
   "mimetype": "text/x-python",
   "name": "python",
   "nbconvert_exporter": "python",
   "pygments_lexer": "ipython3",
   "version": "3.7.4"
  }
 },
 "nbformat": 4,
 "nbformat_minor": 2
}
